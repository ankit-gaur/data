{
 "cells": [
  {
   "cell_type": "code",
   "execution_count": 299,
   "metadata": {
    "collapsed": false
   },
   "outputs": [],
   "source": [
    "import json\n",
    "from datetime import datetime\n",
    "import pandas as pd"
   ]
  },
  {
   "cell_type": "code",
   "execution_count": 300,
   "metadata": {
    "collapsed": true
   },
   "outputs": [],
   "source": [
    "f = open('all.txt','r')"
   ]
  },
  {
   "cell_type": "code",
   "execution_count": 301,
   "metadata": {
    "collapsed": true
   },
   "outputs": [],
   "source": [
    "data = json.load(f)"
   ]
  },
  {
   "cell_type": "code",
   "execution_count": 302,
   "metadata": {
    "collapsed": false
   },
   "outputs": [
    {
     "data": {
      "text/plain": [
       "<function dict.keys>"
      ]
     },
     "execution_count": 302,
     "metadata": {},
     "output_type": "execute_result"
    }
   ],
   "source": [
    "data.keys"
   ]
  },
  {
   "cell_type": "code",
   "execution_count": 303,
   "metadata": {
    "collapsed": false
   },
   "outputs": [
    {
     "data": {
      "text/plain": [
       "dict_keys(['list', 'items'])"
      ]
     },
     "execution_count": 303,
     "metadata": {},
     "output_type": "execute_result"
    }
   ],
   "source": [
    "data.keys()"
   ]
  },
  {
   "cell_type": "code",
   "execution_count": 304,
   "metadata": {
    "collapsed": true
   },
   "outputs": [],
   "source": [
    "flights = data['items']"
   ]
  },
  {
   "cell_type": "code",
   "execution_count": 305,
   "metadata": {
    "collapsed": false
   },
   "outputs": [],
   "source": [
    "swizFlights = [flight for flight in flights if flight['takeoff']['countryIso']=='CH' ]\n",
    "#swizFlights[0]"
   ]
  },
  {
   "cell_type": "code",
   "execution_count": 306,
   "metadata": {
    "collapsed": false
   },
   "outputs": [
    {
     "data": {
      "text/plain": [
       "'2017-09-29'"
      ]
     },
     "execution_count": 306,
     "metadata": {},
     "output_type": "execute_result"
    }
   ],
   "source": [
    "date =  swizFlights[0]['pointStart']['time'][:10]\n",
    "date"
   ]
  },
  {
   "cell_type": "code",
   "execution_count": 307,
   "metadata": {
    "collapsed": false
   },
   "outputs": [
    {
     "data": {
      "text/plain": [
       "'Rotenflue'"
      ]
     },
     "execution_count": 307,
     "metadata": {},
     "output_type": "execute_result"
    }
   ],
   "source": [
    "name = swizFlights[4]['takeoff']['name']\n",
    "name"
   ]
  },
  {
   "cell_type": "code",
   "execution_count": 308,
   "metadata": {
    "collapsed": false
   },
   "outputs": [
    {
     "data": {
      "text/plain": [
       "4.18"
      ]
     },
     "execution_count": 308,
     "metadata": {},
     "output_type": "execute_result"
    }
   ],
   "source": [
    "distance = swizFlights[0]['league']['route']['points']\n",
    "distance"
   ]
  },
  {
   "cell_type": "code",
   "execution_count": 309,
   "metadata": {
    "collapsed": true
   },
   "outputs": [],
   "source": [
    "def getFlightDate(flight):\n",
    "    date =  flight['pointStart']['time'][:10]\n",
    "    return date\n",
    "\n",
    "\n",
    "def strToDate(str):\n",
    "    date = datetime.strptime(str, '%Y-%m-%d')\n",
    "    return date\n",
    "\n",
    "\n",
    "def getCity(flight):\n",
    "    return flight['takeoff']['name']\n",
    "\n",
    "\n",
    "def getDistance(flight):\n",
    "    return flight['league']['route']['points']\n"
   ]
  },
  {
   "cell_type": "code",
   "execution_count": 310,
   "metadata": {
    "collapsed": false
   },
   "outputs": [],
   "source": [
    "#collecting date wise flight data in python dictionary\n",
    "dateWiseFlights = {}\n",
    "for flight in swizFlights:\n",
    "    date = getFlightDate(flight)\n",
    "    dateDict = dateWiseFlights.get(date,{}) #date as key \n",
    "    city = getCity(flight)\n",
    "    distance = float(getDistance(flight)) \n",
    "    cityFlights = dateDict.get(city,{}) #city as key in every date dictionary\n",
    "    maxFlight = cityFlights.get('max',0) \n",
    "    cityFlights['max'] = max(maxFlight,distance)\n",
    "    totalDistance = cityFlights.get('totalDistance',0)\n",
    "    cityFlights['totalDistance'] = totalDistance + distance\n",
    "    cityFlights['totalFlights'] = cityFlights.get('totalFlights',0)+1\n",
    "    dateDict[city] = cityFlights\n",
    "    dateWiseFlights[date]  = dateDict"
   ]
  },
  {
   "cell_type": "code",
   "execution_count": 311,
   "metadata": {
    "collapsed": false
   },
   "outputs": [],
   "source": [
    "flightsList = sorted(dateWiseFlights.items(), key = lambda x : x[0])"
   ]
  },
  {
   "cell_type": "code",
   "execution_count": 312,
   "metadata": {
    "collapsed": false
   },
   "outputs": [],
   "source": [
    "sortedFlights = []\n",
    "for dateFlight in flightsList:\n",
    "    dateFlight = list(dateFlight)\n",
    "    dateFlight[1] = sorted(dateFlight[1].items(), key = lambda x : x[1]['totalDistance'],reverse=True)\n",
    "    dateFlight[1] = dateFlight[1][0]\n",
    "    sortedFlights.append(dateFlight)\n",
    "sortedFlights = [flight for flight in sortedFlights if flight[1][1]['totalFlights']>4 and \"2017\" in flight[0] ]"
   ]
  },
  {
   "cell_type": "code",
   "execution_count": 313,
   "metadata": {
    "collapsed": true
   },
   "outputs": [],
   "source": [
    "import numpy as np"
   ]
  },
  {
   "cell_type": "code",
   "execution_count": 314,
   "metadata": {
    "collapsed": false
   },
   "outputs": [],
   "source": [
    "arr = np.empty(shape=(len(sortedFlights),5,))"
   ]
  },
  {
   "cell_type": "code",
   "execution_count": 315,
   "metadata": {
    "collapsed": false
   },
   "outputs": [],
   "source": [
    "data = []\n",
    "for flight in sortedFlights:\n",
    "    d = []\n",
    "    d.append(flight[0])\n",
    "    d.append(flight[1][0])\n",
    "    d.append(flight[1][1]['max'])\n",
    "    d.append(flight[1][1]['totalDistance'])\n",
    "    d.append(flight[1][1]['totalFlights'])\n",
    "    data.append(d)"
   ]
  },
  {
   "cell_type": "code",
   "execution_count": 316,
   "metadata": {
    "collapsed": false
   },
   "outputs": [
    {
     "data": {
      "text/plain": [
       "['2017-01-01', 'Brunni', 22.99, 204.55000000000004, 15]"
      ]
     },
     "execution_count": 316,
     "metadata": {},
     "output_type": "execute_result"
    }
   ],
   "source": [
    "data[0]"
   ]
  },
  {
   "cell_type": "code",
   "execution_count": 317,
   "metadata": {
    "collapsed": false
   },
   "outputs": [],
   "source": [
    "#saving list of datewise bestspots as pickle\n",
    "import pickle\n",
    "with open('flight_data.p', 'wb') as fp:\n",
    "    pickle.dump(data, fp, protocol=pickle.HIGHEST_PROTOCOL)"
   ]
  },
  {
   "cell_type": "code",
   "execution_count": 318,
   "metadata": {
    "collapsed": true
   },
   "outputs": [],
   "source": [
    "all_cities = set() #set of all cities present in the data\n",
    "for date in list(dateWiseFlights):\n",
    "    dateData = dateWiseFlights[date]\n",
    "    cities = list(dateData)\n",
    "    for city in cities:\n",
    "        all_cities.add(city)"
   ]
  },
  {
   "cell_type": "code",
   "execution_count": 319,
   "metadata": {
    "collapsed": false
   },
   "outputs": [],
   "source": [
    "#removing invalid cities\n",
    "for city in list(all_cities):\n",
    "    if(len(city)<4):\n",
    "        all_cities.remove(city)"
   ]
  },
  {
   "cell_type": "code",
   "execution_count": 320,
   "metadata": {
    "collapsed": false
   },
   "outputs": [],
   "source": [
    "#collecting city wise flight data from dateWiseFlight dictionary for every date sorted by date\n",
    "cityWiseFlights = {} #python dictionary where city is key and for each city value is pandas dataframe containing data for this city for every date\n",
    "col_lst = ['Date', 'maxDistance', 'avgDistance', 'totalFlights']\n",
    "dates = list(dateWiseFlights)\n",
    "dates.sort() #sorting dates\n",
    "#removing dates 2016 dates as no weather data available\n",
    "dates = [date for date in dates if \"2017\" in date]\n",
    "\n",
    "#collecting all cities data\n",
    "for city in all_cities:\n",
    "    city_data_lst = []\n",
    "    \n",
    "    for date in dates:\n",
    "        date_data = dateWiseFlights[date]\n",
    "        if(city in list(date_data)):  #if data available for this city for this date then save it into the list\n",
    "            lst = []\n",
    "            lst.append(date)\n",
    "            city_data = date_data[city]\n",
    "            maxDistance = city_data['max']\n",
    "            totalDistance = city_data['totalDistance']\n",
    "            totalFlights = city_data['totalFlights']\n",
    "            if totalFlights>3: #only significant when number of flights greater than 10\n",
    "                avgDistance = totalDistance/totalFlights\n",
    "                lst.append(maxDistance)\n",
    "                lst.append(avgDistance)\n",
    "                lst.append(totalFlights)\n",
    "                city_data_lst.append(lst)\n",
    "    if(len(city_data_lst)>10): #only considering this city when number of days for this city are greater than 10\n",
    "        city_df = pd.DataFrame(city_data_lst,columns=col_lst)\n",
    "        cityWiseFlights[city] = city_df\n",
    "            "
   ]
  },
  {
   "cell_type": "code",
   "execution_count": 321,
   "metadata": {
    "collapsed": false
   },
   "outputs": [],
   "source": [
    "city_w = cityWiseFlights['Weissenstein']"
   ]
  },
  {
   "cell_type": "code",
   "execution_count": 322,
   "metadata": {
    "collapsed": true
   },
   "outputs": [],
   "source": [
    "#saving citywise data \n",
    "import pickle\n",
    "with open('flight_data_citywise.p', 'wb') as fp:\n",
    "    pickle.dump(cityWiseFlights, fp, protocol=pickle.HIGHEST_PROTOCOL)\n",
    "#removing cities with very less data from all cities\n",
    "all_cities = [city for city in all_cities if city in list(cityWiseFlights)]"
   ]
  },
  {
   "cell_type": "code",
   "execution_count": 323,
   "metadata": {
    "collapsed": false
   },
   "outputs": [],
   "source": [
    "#cities sorted by total number of flights in year\n",
    "sorted_cities = sorted(list(all_cities), key=lambda x: cityWiseFlights[x]['totalFlights'].sum(),reverse=True)\n",
    "# for city in sorted_cities:\n",
    "#     print(city, cityWiseFlights[city]['totalFlights'].sum())"
   ]
  },
  {
   "cell_type": "code",
   "execution_count": 324,
   "metadata": {
    "collapsed": false
   },
   "outputs": [],
   "source": [
    "#cities sorted by total distance in year\n",
    "sorted_cities = sorted(list(all_cities), key=lambda x: pd.DataFrame(cityWiseFlights[x]['avgDistance'].values*cityWiseFlights[x]['totalFlights'].values)[0].sum(),reverse=True)\n",
    "# for city in sorted_cities:\n",
    "#     print(city, pd.DataFrame(cityWiseFlights[city]['avgDistance'].values*cityWiseFlights[city]['totalFlights'].values)[0].sum())\n"
   ]
  },
  {
   "cell_type": "code",
   "execution_count": 325,
   "metadata": {
    "collapsed": false
   },
   "outputs": [],
   "source": [
    "#cities sorted by maximum of max distance in year\n",
    "sorted_cities = sorted(list(all_cities), key=lambda x: cityWiseFlights[x]['maxDistance'].max(),reverse=True)\n",
    "# for city in sorted_cities:\n",
    "#     print(city, cityWiseFlights[city]['maxDistance'].max())\n",
    "    "
   ]
  },
  {
   "cell_type": "code",
   "execution_count": 326,
   "metadata": {
    "collapsed": false
   },
   "outputs": [],
   "source": [
    "#cities sorted by maximum of average distance in year\n",
    "sorted_cities = sorted(list(all_cities), key=lambda x: cityWiseFlights[x]['avgDistance'].max(),reverse=True)\n",
    "# for city in sorted_cities:\n",
    "#     print(city, cityWiseFlights[city]['avgDistance'].max())"
   ]
  },
  {
   "cell_type": "code",
   "execution_count": 327,
   "metadata": {
    "collapsed": true
   },
   "outputs": [],
   "source": [
    "all_cities = sorted(list(all_cities), key=lambda x: cityWiseFlights[x]['totalFlights'].sum(),reverse=True)\n",
    "#saving all cities\n",
    "with open('all_cities.p','wb') as fp:\n",
    "    pickle.dump(all_cities,fp,protocol= pickle.HIGHEST_PROTOCOL)\n",
    "    "
   ]
  },
  {
   "cell_type": "code",
   "execution_count": 328,
   "metadata": {
    "collapsed": false
   },
   "outputs": [
    {
     "data": {
      "text/html": [
       "<div>\n",
       "<style scoped>\n",
       "    .dataframe tbody tr th:only-of-type {\n",
       "        vertical-align: middle;\n",
       "    }\n",
       "\n",
       "    .dataframe tbody tr th {\n",
       "        vertical-align: top;\n",
       "    }\n",
       "\n",
       "    .dataframe thead th {\n",
       "        text-align: right;\n",
       "    }\n",
       "</style>\n",
       "<table border=\"1\" class=\"dataframe\">\n",
       "  <thead>\n",
       "    <tr style=\"text-align: right;\">\n",
       "      <th></th>\n",
       "      <th>Date</th>\n",
       "      <th>Weissenstein maxDistance</th>\n",
       "      <th>Weissenstein totalDistance</th>\n",
       "      <th>Weissenstein totalFlights</th>\n",
       "      <th>Brunni maxDistance</th>\n",
       "      <th>Brunni totalDistance</th>\n",
       "      <th>Brunni totalFlights</th>\n",
       "      <th>Fiesch maxDistance</th>\n",
       "      <th>Fiesch totalDistance</th>\n",
       "      <th>Fiesch totalFlights</th>\n",
       "      <th>...</th>\n",
       "      <th>Grandvillard totalFlights</th>\n",
       "      <th>Kronberg maxDistance</th>\n",
       "      <th>Kronberg totalDistance</th>\n",
       "      <th>Kronberg totalFlights</th>\n",
       "      <th>Pizol maxDistance</th>\n",
       "      <th>Pizol totalDistance</th>\n",
       "      <th>Pizol totalFlights</th>\n",
       "      <th>Gana maxDistance</th>\n",
       "      <th>Gana totalDistance</th>\n",
       "      <th>Gana totalFlights</th>\n",
       "    </tr>\n",
       "  </thead>\n",
       "  <tbody>\n",
       "    <tr>\n",
       "      <th>0</th>\n",
       "      <td>2017-01-01</td>\n",
       "      <td>0.0</td>\n",
       "      <td>0.0</td>\n",
       "      <td>0</td>\n",
       "      <td>22.99</td>\n",
       "      <td>204.55</td>\n",
       "      <td>15</td>\n",
       "      <td>0.0</td>\n",
       "      <td>0.0</td>\n",
       "      <td>0</td>\n",
       "      <td>...</td>\n",
       "      <td>0</td>\n",
       "      <td>0.0</td>\n",
       "      <td>0.0</td>\n",
       "      <td>0</td>\n",
       "      <td>0.0</td>\n",
       "      <td>0.0</td>\n",
       "      <td>0</td>\n",
       "      <td>0.0</td>\n",
       "      <td>0.0</td>\n",
       "      <td>0</td>\n",
       "    </tr>\n",
       "    <tr>\n",
       "      <th>1</th>\n",
       "      <td>2017-01-02</td>\n",
       "      <td>0.0</td>\n",
       "      <td>0.0</td>\n",
       "      <td>0</td>\n",
       "      <td>0.00</td>\n",
       "      <td>0.00</td>\n",
       "      <td>0</td>\n",
       "      <td>0.0</td>\n",
       "      <td>0.0</td>\n",
       "      <td>0</td>\n",
       "      <td>...</td>\n",
       "      <td>0</td>\n",
       "      <td>0.0</td>\n",
       "      <td>0.0</td>\n",
       "      <td>0</td>\n",
       "      <td>0.0</td>\n",
       "      <td>0.0</td>\n",
       "      <td>0</td>\n",
       "      <td>0.0</td>\n",
       "      <td>0.0</td>\n",
       "      <td>0</td>\n",
       "    </tr>\n",
       "    <tr>\n",
       "      <th>2</th>\n",
       "      <td>2017-01-03</td>\n",
       "      <td>0.0</td>\n",
       "      <td>0.0</td>\n",
       "      <td>0</td>\n",
       "      <td>0.00</td>\n",
       "      <td>0.00</td>\n",
       "      <td>0</td>\n",
       "      <td>0.0</td>\n",
       "      <td>0.0</td>\n",
       "      <td>0</td>\n",
       "      <td>...</td>\n",
       "      <td>0</td>\n",
       "      <td>0.0</td>\n",
       "      <td>0.0</td>\n",
       "      <td>0</td>\n",
       "      <td>0.0</td>\n",
       "      <td>0.0</td>\n",
       "      <td>0</td>\n",
       "      <td>0.0</td>\n",
       "      <td>0.0</td>\n",
       "      <td>0</td>\n",
       "    </tr>\n",
       "    <tr>\n",
       "      <th>3</th>\n",
       "      <td>2017-01-06</td>\n",
       "      <td>0.0</td>\n",
       "      <td>0.0</td>\n",
       "      <td>0</td>\n",
       "      <td>0.00</td>\n",
       "      <td>0.00</td>\n",
       "      <td>0</td>\n",
       "      <td>0.0</td>\n",
       "      <td>0.0</td>\n",
       "      <td>0</td>\n",
       "      <td>...</td>\n",
       "      <td>0</td>\n",
       "      <td>0.0</td>\n",
       "      <td>0.0</td>\n",
       "      <td>0</td>\n",
       "      <td>0.0</td>\n",
       "      <td>0.0</td>\n",
       "      <td>0</td>\n",
       "      <td>0.0</td>\n",
       "      <td>0.0</td>\n",
       "      <td>0</td>\n",
       "    </tr>\n",
       "    <tr>\n",
       "      <th>4</th>\n",
       "      <td>2017-01-07</td>\n",
       "      <td>0.0</td>\n",
       "      <td>0.0</td>\n",
       "      <td>0</td>\n",
       "      <td>0.00</td>\n",
       "      <td>0.00</td>\n",
       "      <td>0</td>\n",
       "      <td>0.0</td>\n",
       "      <td>0.0</td>\n",
       "      <td>0</td>\n",
       "      <td>...</td>\n",
       "      <td>0</td>\n",
       "      <td>0.0</td>\n",
       "      <td>0.0</td>\n",
       "      <td>0</td>\n",
       "      <td>0.0</td>\n",
       "      <td>0.0</td>\n",
       "      <td>0</td>\n",
       "      <td>0.0</td>\n",
       "      <td>0.0</td>\n",
       "      <td>0</td>\n",
       "    </tr>\n",
       "  </tbody>\n",
       "</table>\n",
       "<p>5 rows × 112 columns</p>\n",
       "</div>"
      ],
      "text/plain": [
       "         Date  Weissenstein maxDistance  Weissenstein totalDistance  \\\n",
       "0  2017-01-01                       0.0                         0.0   \n",
       "1  2017-01-02                       0.0                         0.0   \n",
       "2  2017-01-03                       0.0                         0.0   \n",
       "3  2017-01-06                       0.0                         0.0   \n",
       "4  2017-01-07                       0.0                         0.0   \n",
       "\n",
       "   Weissenstein totalFlights  Brunni maxDistance  Brunni totalDistance  \\\n",
       "0                          0               22.99                204.55   \n",
       "1                          0                0.00                  0.00   \n",
       "2                          0                0.00                  0.00   \n",
       "3                          0                0.00                  0.00   \n",
       "4                          0                0.00                  0.00   \n",
       "\n",
       "   Brunni totalFlights  Fiesch maxDistance  Fiesch totalDistance  \\\n",
       "0                   15                 0.0                   0.0   \n",
       "1                    0                 0.0                   0.0   \n",
       "2                    0                 0.0                   0.0   \n",
       "3                    0                 0.0                   0.0   \n",
       "4                    0                 0.0                   0.0   \n",
       "\n",
       "   Fiesch totalFlights        ...          Grandvillard totalFlights  \\\n",
       "0                    0        ...                                  0   \n",
       "1                    0        ...                                  0   \n",
       "2                    0        ...                                  0   \n",
       "3                    0        ...                                  0   \n",
       "4                    0        ...                                  0   \n",
       "\n",
       "   Kronberg maxDistance  Kronberg totalDistance  Kronberg totalFlights  \\\n",
       "0                   0.0                     0.0                      0   \n",
       "1                   0.0                     0.0                      0   \n",
       "2                   0.0                     0.0                      0   \n",
       "3                   0.0                     0.0                      0   \n",
       "4                   0.0                     0.0                      0   \n",
       "\n",
       "   Pizol maxDistance  Pizol totalDistance  Pizol totalFlights  \\\n",
       "0                0.0                  0.0                   0   \n",
       "1                0.0                  0.0                   0   \n",
       "2                0.0                  0.0                   0   \n",
       "3                0.0                  0.0                   0   \n",
       "4                0.0                  0.0                   0   \n",
       "\n",
       "   Gana maxDistance  Gana totalDistance  Gana totalFlights  \n",
       "0               0.0                 0.0                  0  \n",
       "1               0.0                 0.0                  0  \n",
       "2               0.0                 0.0                  0  \n",
       "3               0.0                 0.0                  0  \n",
       "4               0.0                 0.0                  0  \n",
       "\n",
       "[5 rows x 112 columns]"
      ]
     },
     "execution_count": 328,
     "metadata": {},
     "output_type": "execute_result"
    }
   ],
   "source": [
    "\n",
    "#making dateWise dataframe for each city together if no flight for a city on a date then set all values to zero\n",
    "param_types = [\" maxDistance\", \" totalDistance\", \" totalFlights\"]\n",
    "col_list = [\"Date\"]\n",
    "for city in all_cities:\n",
    "    for param in param_types:\n",
    "        col_list.append(city+param)\n",
    "\n",
    "        \n",
    "all_data = []\n",
    "for date in dates:\n",
    "    data = []\n",
    "    data.append(date)\n",
    "    for city in all_cities:\n",
    "        if(date in list(cityWiseFlights[city][\"Date\"])):\n",
    "            city_data = dateWiseFlights[date][city]\n",
    "            data.append(city_data[\"max\"])\n",
    "            totalDistance= city_data[\"totalDistance\"]\n",
    "            totalFlights = city_data[\"totalFlights\"]\n",
    "            data.append(totalDistance)\n",
    "            data.append(totalFlights)\n",
    "        else:\n",
    "            data.append(0)\n",
    "            data.append(0)\n",
    "            data.append(0)\n",
    "    all_data.append(data)\n",
    "date_wise_df_all = pd.DataFrame(all_data,columns = col_list)\n",
    "date_wise_df_all.head()\n",
    "    "
   ]
  },
  {
   "cell_type": "code",
   "execution_count": 329,
   "metadata": {
    "collapsed": false
   },
   "outputs": [
    {
     "data": {
      "text/plain": [
       "(313, 112)"
      ]
     },
     "execution_count": 329,
     "metadata": {},
     "output_type": "execute_result"
    }
   ],
   "source": [
    "date_wise_df_all.shape\n"
   ]
  },
  {
   "cell_type": "code",
   "execution_count": 330,
   "metadata": {
    "collapsed": true
   },
   "outputs": [],
   "source": [
    "#saving citywise data \n",
    "import pickle\n",
    "with open('flight_data_datewise.p', 'wb') as fp:\n",
    "    pickle.dump(date_wise_df_all, fp, protocol=pickle.HIGHEST_PROTOCOL)"
   ]
  }
 ],
 "metadata": {
  "anaconda-cloud": {},
  "kernelspec": {
   "display_name": "Python [default]",
   "language": "python",
   "name": "python3"
  },
  "language_info": {
   "codemirror_mode": {
    "name": "ipython",
    "version": 3
   },
   "file_extension": ".py",
   "mimetype": "text/x-python",
   "name": "python",
   "nbconvert_exporter": "python",
   "pygments_lexer": "ipython3",
   "version": "3.5.4"
  }
 },
 "nbformat": 4,
 "nbformat_minor": 2
}
