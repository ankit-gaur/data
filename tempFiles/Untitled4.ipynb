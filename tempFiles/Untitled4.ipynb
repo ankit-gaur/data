{
 "cells": [
  {
   "cell_type": "code",
   "execution_count": 712,
   "metadata": {
    "collapsed": true
   },
   "outputs": [],
   "source": [
    "import pickle\n",
    "import numpy as np\n",
    "import pandas as pd\n",
    "import matplotlib.pyplot as plt"
   ]
  },
  {
   "cell_type": "code",
   "execution_count": 713,
   "metadata": {
    "collapsed": false
   },
   "outputs": [],
   "source": [
    "with open('weather_DataFrame.p','rb') as fp:\n",
    "    weather_df = pickle.load(fp)\n",
    "#print(weather_df)"
   ]
  },
  {
   "cell_type": "code",
   "execution_count": 714,
   "metadata": {
    "collapsed": true
   },
   "outputs": [],
   "source": [
    "with open('flight_data_datewise.p','rb') as fp:\n",
    "    flights_df = pickle.load(fp)"
   ]
  },
  {
   "cell_type": "code",
   "execution_count": 715,
   "metadata": {
    "collapsed": true
   },
   "outputs": [],
   "source": [
    "with open('all_cities.p','rb') as fp:\n",
    "    all_cities = pickle.load(fp)"
   ]
  },
  {
   "cell_type": "code",
   "execution_count": 716,
   "metadata": {
    "collapsed": false
   },
   "outputs": [],
   "source": [
    "# print(weather_df.head())"
   ]
  },
  {
   "cell_type": "code",
   "execution_count": 717,
   "metadata": {
    "collapsed": false
   },
   "outputs": [],
   "source": [
    "# print(flights_df.head())"
   ]
  },
  {
   "cell_type": "code",
   "execution_count": 718,
   "metadata": {
    "collapsed": false
   },
   "outputs": [],
   "source": [
    "# print(all_cities)"
   ]
  },
  {
   "cell_type": "code",
   "execution_count": 719,
   "metadata": {
    "collapsed": false
   },
   "outputs": [],
   "source": [
    "weather_dates = list(weather_df.Date)"
   ]
  },
  {
   "cell_type": "code",
   "execution_count": 720,
   "metadata": {
    "collapsed": true
   },
   "outputs": [],
   "source": [
    "flight_params = [\" maxDistance\" , \" totalDistance\", \" totalFlights\"]"
   ]
  },
  {
   "cell_type": "code",
   "execution_count": 721,
   "metadata": {
    "collapsed": false
   },
   "outputs": [],
   "source": [
    "index_ = []\n",
    "for date in list(flights_df.Date):\n",
    "    index_.append(date in weather_dates)\n",
    "flights_df = flights_df[index_]\n",
    "flights_df.index = range(flights_df.shape[0])\n",
    "flight_dates = list(flights_df.Date)\n",
    "index_ = []\n",
    "for date in weather_dates:\n",
    "    index_.append(date in flight_dates)\n",
    "weather_df = weather_df[index_]\n",
    "weather_df.index = range(weather_df.shape[0])"
   ]
  },
  {
   "cell_type": "code",
   "execution_count": 738,
   "metadata": {
    "collapsed": false
   },
   "outputs": [
    {
     "data": {
      "text/html": [
       "<div>\n",
       "<style scoped>\n",
       "    .dataframe tbody tr th:only-of-type {\n",
       "        vertical-align: middle;\n",
       "    }\n",
       "\n",
       "    .dataframe tbody tr th {\n",
       "        vertical-align: top;\n",
       "    }\n",
       "\n",
       "    .dataframe thead th {\n",
       "        text-align: right;\n",
       "    }\n",
       "</style>\n",
       "<table border=\"1\" class=\"dataframe\">\n",
       "  <thead>\n",
       "    <tr style=\"text-align: right;\">\n",
       "      <th></th>\n",
       "      <th>Date</th>\n",
       "      <th>Weissenstein maxDistance</th>\n",
       "      <th>Weissenstein totalDistance</th>\n",
       "      <th>Weissenstein totalFlights</th>\n",
       "      <th>Brunni maxDistance</th>\n",
       "      <th>Brunni totalDistance</th>\n",
       "      <th>Brunni totalFlights</th>\n",
       "      <th>Fiesch maxDistance</th>\n",
       "      <th>Fiesch totalDistance</th>\n",
       "      <th>Fiesch totalFlights</th>\n",
       "      <th>...</th>\n",
       "      <th>Grandvillard totalFlights</th>\n",
       "      <th>Kronberg maxDistance</th>\n",
       "      <th>Kronberg totalDistance</th>\n",
       "      <th>Kronberg totalFlights</th>\n",
       "      <th>Pizol maxDistance</th>\n",
       "      <th>Pizol totalDistance</th>\n",
       "      <th>Pizol totalFlights</th>\n",
       "      <th>Gana maxDistance</th>\n",
       "      <th>Gana totalDistance</th>\n",
       "      <th>Gana totalFlights</th>\n",
       "    </tr>\n",
       "  </thead>\n",
       "  <tbody>\n",
       "    <tr>\n",
       "      <th>0</th>\n",
       "      <td>2017-03-14</td>\n",
       "      <td>0.0</td>\n",
       "      <td>0.0</td>\n",
       "      <td>0</td>\n",
       "      <td>0.00</td>\n",
       "      <td>0.00</td>\n",
       "      <td>0</td>\n",
       "      <td>0.0</td>\n",
       "      <td>0.00</td>\n",
       "      <td>0</td>\n",
       "      <td>...</td>\n",
       "      <td>0</td>\n",
       "      <td>0.0</td>\n",
       "      <td>0.0</td>\n",
       "      <td>0</td>\n",
       "      <td>0.0</td>\n",
       "      <td>0.0</td>\n",
       "      <td>0</td>\n",
       "      <td>0.0</td>\n",
       "      <td>0.0</td>\n",
       "      <td>0</td>\n",
       "    </tr>\n",
       "    <tr>\n",
       "      <th>1</th>\n",
       "      <td>2017-03-15</td>\n",
       "      <td>0.0</td>\n",
       "      <td>0.0</td>\n",
       "      <td>0</td>\n",
       "      <td>21.55</td>\n",
       "      <td>63.16</td>\n",
       "      <td>4</td>\n",
       "      <td>0.0</td>\n",
       "      <td>0.00</td>\n",
       "      <td>0</td>\n",
       "      <td>...</td>\n",
       "      <td>0</td>\n",
       "      <td>0.0</td>\n",
       "      <td>0.0</td>\n",
       "      <td>0</td>\n",
       "      <td>0.0</td>\n",
       "      <td>0.0</td>\n",
       "      <td>0</td>\n",
       "      <td>0.0</td>\n",
       "      <td>0.0</td>\n",
       "      <td>0</td>\n",
       "    </tr>\n",
       "    <tr>\n",
       "      <th>2</th>\n",
       "      <td>2017-03-16</td>\n",
       "      <td>0.0</td>\n",
       "      <td>0.0</td>\n",
       "      <td>0</td>\n",
       "      <td>70.12</td>\n",
       "      <td>539.97</td>\n",
       "      <td>13</td>\n",
       "      <td>246.6</td>\n",
       "      <td>1745.49</td>\n",
       "      <td>16</td>\n",
       "      <td>...</td>\n",
       "      <td>0</td>\n",
       "      <td>0.0</td>\n",
       "      <td>0.0</td>\n",
       "      <td>0</td>\n",
       "      <td>0.0</td>\n",
       "      <td>0.0</td>\n",
       "      <td>0</td>\n",
       "      <td>0.0</td>\n",
       "      <td>0.0</td>\n",
       "      <td>0</td>\n",
       "    </tr>\n",
       "    <tr>\n",
       "      <th>3</th>\n",
       "      <td>2017-03-17</td>\n",
       "      <td>0.0</td>\n",
       "      <td>0.0</td>\n",
       "      <td>0</td>\n",
       "      <td>0.00</td>\n",
       "      <td>0.00</td>\n",
       "      <td>0</td>\n",
       "      <td>0.0</td>\n",
       "      <td>0.00</td>\n",
       "      <td>0</td>\n",
       "      <td>...</td>\n",
       "      <td>0</td>\n",
       "      <td>0.0</td>\n",
       "      <td>0.0</td>\n",
       "      <td>0</td>\n",
       "      <td>0.0</td>\n",
       "      <td>0.0</td>\n",
       "      <td>0</td>\n",
       "      <td>0.0</td>\n",
       "      <td>0.0</td>\n",
       "      <td>0</td>\n",
       "    </tr>\n",
       "    <tr>\n",
       "      <th>4</th>\n",
       "      <td>2017-03-21</td>\n",
       "      <td>0.0</td>\n",
       "      <td>0.0</td>\n",
       "      <td>0</td>\n",
       "      <td>0.00</td>\n",
       "      <td>0.00</td>\n",
       "      <td>0</td>\n",
       "      <td>0.0</td>\n",
       "      <td>0.00</td>\n",
       "      <td>0</td>\n",
       "      <td>...</td>\n",
       "      <td>0</td>\n",
       "      <td>0.0</td>\n",
       "      <td>0.0</td>\n",
       "      <td>0</td>\n",
       "      <td>0.0</td>\n",
       "      <td>0.0</td>\n",
       "      <td>0</td>\n",
       "      <td>0.0</td>\n",
       "      <td>0.0</td>\n",
       "      <td>0</td>\n",
       "    </tr>\n",
       "  </tbody>\n",
       "</table>\n",
       "<p>5 rows × 112 columns</p>\n",
       "</div>"
      ],
      "text/plain": [
       "         Date  Weissenstein maxDistance  Weissenstein totalDistance  \\\n",
       "0  2017-03-14                       0.0                         0.0   \n",
       "1  2017-03-15                       0.0                         0.0   \n",
       "2  2017-03-16                       0.0                         0.0   \n",
       "3  2017-03-17                       0.0                         0.0   \n",
       "4  2017-03-21                       0.0                         0.0   \n",
       "\n",
       "   Weissenstein totalFlights  Brunni maxDistance  Brunni totalDistance  \\\n",
       "0                          0                0.00                  0.00   \n",
       "1                          0               21.55                 63.16   \n",
       "2                          0               70.12                539.97   \n",
       "3                          0                0.00                  0.00   \n",
       "4                          0                0.00                  0.00   \n",
       "\n",
       "   Brunni totalFlights  Fiesch maxDistance  Fiesch totalDistance  \\\n",
       "0                    0                 0.0                  0.00   \n",
       "1                    4                 0.0                  0.00   \n",
       "2                   13               246.6               1745.49   \n",
       "3                    0                 0.0                  0.00   \n",
       "4                    0                 0.0                  0.00   \n",
       "\n",
       "   Fiesch totalFlights        ...          Grandvillard totalFlights  \\\n",
       "0                    0        ...                                  0   \n",
       "1                    0        ...                                  0   \n",
       "2                   16        ...                                  0   \n",
       "3                    0        ...                                  0   \n",
       "4                    0        ...                                  0   \n",
       "\n",
       "   Kronberg maxDistance  Kronberg totalDistance  Kronberg totalFlights  \\\n",
       "0                   0.0                     0.0                      0   \n",
       "1                   0.0                     0.0                      0   \n",
       "2                   0.0                     0.0                      0   \n",
       "3                   0.0                     0.0                      0   \n",
       "4                   0.0                     0.0                      0   \n",
       "\n",
       "   Pizol maxDistance  Pizol totalDistance  Pizol totalFlights  \\\n",
       "0                0.0                  0.0                   0   \n",
       "1                0.0                  0.0                   0   \n",
       "2                0.0                  0.0                   0   \n",
       "3                0.0                  0.0                   0   \n",
       "4                0.0                  0.0                   0   \n",
       "\n",
       "   Gana maxDistance  Gana totalDistance  Gana totalFlights  \n",
       "0               0.0                 0.0                  0  \n",
       "1               0.0                 0.0                  0  \n",
       "2               0.0                 0.0                  0  \n",
       "3               0.0                 0.0                  0  \n",
       "4               0.0                 0.0                  0  \n",
       "\n",
       "[5 rows x 112 columns]"
      ]
     },
     "execution_count": 738,
     "metadata": {},
     "output_type": "execute_result"
    }
   ],
   "source": [
    "flights_df.head()"
   ]
  },
  {
   "cell_type": "code",
   "execution_count": 723,
   "metadata": {
    "collapsed": false,
    "scrolled": true
   },
   "outputs": [],
   "source": [
    "#weather_df.head()"
   ]
  },
  {
   "cell_type": "code",
   "execution_count": 724,
   "metadata": {
    "collapsed": false
   },
   "outputs": [],
   "source": [
    "from sklearn.preprocessing import StandardScaler\n",
    "scaler = StandardScaler()\n",
    "X = np.array(weather_df.iloc[:,1:])"
   ]
  },
  {
   "cell_type": "code",
   "execution_count": 725,
   "metadata": {
    "collapsed": false
   },
   "outputs": [
    {
     "data": {
      "text/plain": [
       "(209, 112)"
      ]
     },
     "execution_count": 725,
     "metadata": {},
     "output_type": "execute_result"
    }
   ],
   "source": [
    "flights_df.shape"
   ]
  },
  {
   "cell_type": "code",
   "execution_count": 726,
   "metadata": {
    "collapsed": false
   },
   "outputs": [],
   "source": [
    "from sklearn.cross_validation import train_test_split \n",
    "Xtrain,Xtest, ytrain,ytest = train_test_split(X,flights_df,test_size = 0.2)\n",
    "ytrain.index = range(ytrain.shape[0])\n",
    "ytest.index = range(ytest.shape[0])"
   ]
  },
  {
   "cell_type": "code",
   "execution_count": 727,
   "metadata": {
    "collapsed": true
   },
   "outputs": [],
   "source": [
    "from sklearn.linear_model import Ridge \n",
    "from sklearn.neighbors import KNeighborsRegressor\n",
    "from sklearn.svm import SVR\n",
    "from sklearn.linear_model import LinearRegression\n",
    "from sklearn.tree import DecisionTreeRegressor\n",
    "from sklearn.ensemble import RandomForestRegressor\n",
    "from sklearn.neighbors import KNeighborsClassifier\n",
    "from sklearn.ensemble import RandomForestClassifier\n",
    "from sklearn.svm import LinearSVC\n",
    "from sklearn.svm import SVC"
   ]
  },
  {
   "cell_type": "code",
   "execution_count": 751,
   "metadata": {
    "collapsed": false
   },
   "outputs": [],
   "source": [
    "def predict(city):\n",
    "    model = KNeighborsRegressor(n_neighbors=5,weights=\"distance\")\n",
    "    #model = Ridge()\n",
    "    #model = SVR(kernel = \"linear\",degree = 1, C = 10)\n",
    "    #model = LinearRegression()\n",
    "    #model = RandomForestRegressor(n_estimators=100,max_features = 10)\n",
    "    #model = DecisionTreeRegressor()\n",
    "    ytraincity = ytrain[city+flight_params[2]] #max Distance is input\n",
    "    ytraincity = ytraincity[ytraincity>0]\n",
    "    print(ytraincity.shape)\n",
    "        \n",
    "    ytestcity = ytest[city+flight_params[1]]\n",
    "    ytestcity = ytestcity[ytestcity>0]\n",
    "    \n",
    "    xtraincity = Xtrain[ytraincity.index]\n",
    "    xtestcity = Xtest[ytestcity.index]\n",
    "    \n",
    "    plt.scatter(xtraincity[:,7],ytraincity)\n",
    "    plt.show()\n",
    "    \n",
    "    model.fit(xtraincity,ytraincity)\n",
    "    \n",
    "    yans = [max(0,x) for x in model.predict(xtestcity)]\n",
    "    print(model.score(xtestcity,ytestcity))\n",
    "    print(\"\\nPredicted Distance\")\n",
    "    print(yans)\n",
    "    print(\"\\nActual Distance\")\n",
    "    print(ytestcity)\n",
    "    \n",
    "    \n",
    "    "
   ]
  },
  {
   "cell_type": "code",
   "execution_count": 752,
   "metadata": {
    "collapsed": false
   },
   "outputs": [
    {
     "name": "stdout",
     "output_type": "stream",
     "text": [
      "(43,)\n"
     ]
    },
    {
     "data": {
      "image/png": "[encoded data removed]",
      "text/plain": [
       "<matplotlib.figure.Figure at 0x7ffb79cc1550>"
      ]
     },
     "metadata": {},
     "output_type": "display_data"
    },
    {
     "name": "stdout",
     "output_type": "stream",
     "text": [
      "-0.578043053702\n",
      "\n",
      "Predicted Distance\n",
      "[6.4795864024096588, 18.371177022832935, 6.6497392796901789, 6.9447269359193422, 10.94476449659696, 8.3880081655885697, 10.069829809391878, 29.631090780032061, 6.2828175327038656, 12.887446191175769, 6.7915952615966448, 6.4745318935070335]\n",
      "\n",
      "Actual Distance\n",
      "3      765.37\n",
      "13     219.24\n",
      "16     102.00\n",
      "18     128.16\n",
      "19       9.72\n",
      "21     180.90\n",
      "22      32.64\n",
      "25    1262.21\n",
      "28      60.59\n",
      "30      63.16\n",
      "37      90.84\n",
      "40     913.78\n",
      "Name: Brunni totalDistance, dtype: float64\n"
     ]
    }
   ],
   "source": [
    "predict(all_cities[1])"
   ]
  },
  {
   "cell_type": "code",
   "execution_count": null,
   "metadata": {
    "collapsed": true
   },
   "outputs": [],
   "source": []
  },
  {
   "cell_type": "code",
   "execution_count": null,
   "metadata": {
    "collapsed": true
   },
   "outputs": [],
   "source": []
  }
 ],
 "metadata": {
  "anaconda-cloud": {},
  "kernelspec": {
   "display_name": "Python [conda env:anaconda3]",
   "language": "python",
   "name": "conda-env-anaconda3-py"
  },
  "language_info": {
   "codemirror_mode": {
    "name": "ipython",
    "version": 3
   },
   "file_extension": ".py",
   "mimetype": "text/x-python",
   "name": "python",
   "nbconvert_exporter": "python",
   "pygments_lexer": "ipython3",
   "version": "3.5.4"
  }
 },
 "nbformat": 4,
 "nbformat_minor": 2
}
